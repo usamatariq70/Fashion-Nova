{
 "cells": [
  {
   "cell_type": "code",
   "execution_count": 1,
   "metadata": {},
   "outputs": [],
   "source": [
    "import pandas as pd\n",
    "import numpy as np"
   ]
  },
  {
   "cell_type": "code",
   "execution_count": 2,
   "metadata": {},
   "outputs": [],
   "source": [
    "train = pd.read_csv(r'C:\\Users\\Usama\\Desktop\\fashion-mnist_train.csv', sep=',')\n",
    "test = pd.read_csv(r'C:\\Users\\Usama\\Desktop\\fashion-mnist_test.csv', sep=',')"
   ]
  },
  {
   "cell_type": "code",
   "execution_count": 3,
   "metadata": {
    "scrolled": true
   },
   "outputs": [
    {
     "data": {
      "text/html": [
       "<div>\n",
       "<style scoped>\n",
       "    .dataframe tbody tr th:only-of-type {\n",
       "        vertical-align: middle;\n",
       "    }\n",
       "\n",
       "    .dataframe tbody tr th {\n",
       "        vertical-align: top;\n",
       "    }\n",
       "\n",
       "    .dataframe thead th {\n",
       "        text-align: right;\n",
       "    }\n",
       "</style>\n",
       "<table border=\"1\" class=\"dataframe\">\n",
       "  <thead>\n",
       "    <tr style=\"text-align: right;\">\n",
       "      <th></th>\n",
       "      <th>label</th>\n",
       "      <th>pixel1</th>\n",
       "      <th>pixel2</th>\n",
       "      <th>pixel3</th>\n",
       "      <th>pixel4</th>\n",
       "      <th>pixel5</th>\n",
       "      <th>pixel6</th>\n",
       "      <th>pixel7</th>\n",
       "      <th>pixel8</th>\n",
       "      <th>pixel9</th>\n",
       "      <th>...</th>\n",
       "      <th>pixel775</th>\n",
       "      <th>pixel776</th>\n",
       "      <th>pixel777</th>\n",
       "      <th>pixel778</th>\n",
       "      <th>pixel779</th>\n",
       "      <th>pixel780</th>\n",
       "      <th>pixel781</th>\n",
       "      <th>pixel782</th>\n",
       "      <th>pixel783</th>\n",
       "      <th>pixel784</th>\n",
       "    </tr>\n",
       "  </thead>\n",
       "  <tbody>\n",
       "    <tr>\n",
       "      <th>0</th>\n",
       "      <td>2</td>\n",
       "      <td>0</td>\n",
       "      <td>0</td>\n",
       "      <td>0</td>\n",
       "      <td>0</td>\n",
       "      <td>0</td>\n",
       "      <td>0</td>\n",
       "      <td>0</td>\n",
       "      <td>0</td>\n",
       "      <td>0</td>\n",
       "      <td>...</td>\n",
       "      <td>0</td>\n",
       "      <td>0</td>\n",
       "      <td>0</td>\n",
       "      <td>0</td>\n",
       "      <td>0</td>\n",
       "      <td>0</td>\n",
       "      <td>0</td>\n",
       "      <td>0</td>\n",
       "      <td>0</td>\n",
       "      <td>0</td>\n",
       "    </tr>\n",
       "    <tr>\n",
       "      <th>1</th>\n",
       "      <td>9</td>\n",
       "      <td>0</td>\n",
       "      <td>0</td>\n",
       "      <td>0</td>\n",
       "      <td>0</td>\n",
       "      <td>0</td>\n",
       "      <td>0</td>\n",
       "      <td>0</td>\n",
       "      <td>0</td>\n",
       "      <td>0</td>\n",
       "      <td>...</td>\n",
       "      <td>0</td>\n",
       "      <td>0</td>\n",
       "      <td>0</td>\n",
       "      <td>0</td>\n",
       "      <td>0</td>\n",
       "      <td>0</td>\n",
       "      <td>0</td>\n",
       "      <td>0</td>\n",
       "      <td>0</td>\n",
       "      <td>0</td>\n",
       "    </tr>\n",
       "    <tr>\n",
       "      <th>2</th>\n",
       "      <td>6</td>\n",
       "      <td>0</td>\n",
       "      <td>0</td>\n",
       "      <td>0</td>\n",
       "      <td>0</td>\n",
       "      <td>0</td>\n",
       "      <td>0</td>\n",
       "      <td>0</td>\n",
       "      <td>5</td>\n",
       "      <td>0</td>\n",
       "      <td>...</td>\n",
       "      <td>0</td>\n",
       "      <td>0</td>\n",
       "      <td>0</td>\n",
       "      <td>30</td>\n",
       "      <td>43</td>\n",
       "      <td>0</td>\n",
       "      <td>0</td>\n",
       "      <td>0</td>\n",
       "      <td>0</td>\n",
       "      <td>0</td>\n",
       "    </tr>\n",
       "    <tr>\n",
       "      <th>3</th>\n",
       "      <td>0</td>\n",
       "      <td>0</td>\n",
       "      <td>0</td>\n",
       "      <td>0</td>\n",
       "      <td>1</td>\n",
       "      <td>2</td>\n",
       "      <td>0</td>\n",
       "      <td>0</td>\n",
       "      <td>0</td>\n",
       "      <td>0</td>\n",
       "      <td>...</td>\n",
       "      <td>3</td>\n",
       "      <td>0</td>\n",
       "      <td>0</td>\n",
       "      <td>0</td>\n",
       "      <td>0</td>\n",
       "      <td>1</td>\n",
       "      <td>0</td>\n",
       "      <td>0</td>\n",
       "      <td>0</td>\n",
       "      <td>0</td>\n",
       "    </tr>\n",
       "    <tr>\n",
       "      <th>4</th>\n",
       "      <td>3</td>\n",
       "      <td>0</td>\n",
       "      <td>0</td>\n",
       "      <td>0</td>\n",
       "      <td>0</td>\n",
       "      <td>0</td>\n",
       "      <td>0</td>\n",
       "      <td>0</td>\n",
       "      <td>0</td>\n",
       "      <td>0</td>\n",
       "      <td>...</td>\n",
       "      <td>0</td>\n",
       "      <td>0</td>\n",
       "      <td>0</td>\n",
       "      <td>0</td>\n",
       "      <td>0</td>\n",
       "      <td>0</td>\n",
       "      <td>0</td>\n",
       "      <td>0</td>\n",
       "      <td>0</td>\n",
       "      <td>0</td>\n",
       "    </tr>\n",
       "  </tbody>\n",
       "</table>\n",
       "<p>5 rows × 785 columns</p>\n",
       "</div>"
      ],
      "text/plain": [
       "   label  pixel1  pixel2  pixel3  pixel4  pixel5  pixel6  pixel7  pixel8  \\\n",
       "0      2       0       0       0       0       0       0       0       0   \n",
       "1      9       0       0       0       0       0       0       0       0   \n",
       "2      6       0       0       0       0       0       0       0       5   \n",
       "3      0       0       0       0       1       2       0       0       0   \n",
       "4      3       0       0       0       0       0       0       0       0   \n",
       "\n",
       "   pixel9  ...  pixel775  pixel776  pixel777  pixel778  pixel779  pixel780  \\\n",
       "0       0  ...         0         0         0         0         0         0   \n",
       "1       0  ...         0         0         0         0         0         0   \n",
       "2       0  ...         0         0         0        30        43         0   \n",
       "3       0  ...         3         0         0         0         0         1   \n",
       "4       0  ...         0         0         0         0         0         0   \n",
       "\n",
       "   pixel781  pixel782  pixel783  pixel784  \n",
       "0         0         0         0         0  \n",
       "1         0         0         0         0  \n",
       "2         0         0         0         0  \n",
       "3         0         0         0         0  \n",
       "4         0         0         0         0  \n",
       "\n",
       "[5 rows x 785 columns]"
      ]
     },
     "execution_count": 3,
     "metadata": {},
     "output_type": "execute_result"
    }
   ],
   "source": [
    "train.head()"
   ]
  },
  {
   "cell_type": "code",
   "execution_count": 4,
   "metadata": {},
   "outputs": [],
   "source": [
    "training = np.array(train, dtype='float32')\n",
    "testing = np.array(test, dtype='float32')"
   ]
  },
  {
   "cell_type": "code",
   "execution_count": 5,
   "metadata": {},
   "outputs": [
    {
     "data": {
      "text/plain": [
       "(60000, 785)"
      ]
     },
     "execution_count": 5,
     "metadata": {},
     "output_type": "execute_result"
    }
   ],
   "source": [
    "training.shape"
   ]
  },
  {
   "cell_type": "code",
   "execution_count": 6,
   "metadata": {},
   "outputs": [],
   "source": [
    "X_train = training[:, 1:]/255\n",
    "Y_train = training[:, 0]\n",
    "\n",
    "X_test = testing[:, 1:]/255\n",
    "Y_test = testing[:, 0]"
   ]
  },
  {
   "cell_type": "code",
   "execution_count": 7,
   "metadata": {},
   "outputs": [],
   "source": [
    "from sklearn.model_selection import train_test_split"
   ]
  },
  {
   "cell_type": "code",
   "execution_count": 8,
   "metadata": {},
   "outputs": [],
   "source": [
    "X_train, X_validate, Y_train, Y_validate = train_test_split(X_train, Y_train, test_size = 0.2, random_state=12345)"
   ]
  },
  {
   "cell_type": "code",
   "execution_count": 9,
   "metadata": {},
   "outputs": [],
   "source": [
    "X_train = X_train.reshape(X_train.shape[0], *(28, 28, 1))\n",
    "X_validate = X_validate.reshape(X_validate.shape[0], *(28, 28, 1))\n",
    "X_test = X_test.reshape(X_test.shape[0], *(28, 28, 1))"
   ]
  },
  {
   "cell_type": "code",
   "execution_count": 10,
   "metadata": {},
   "outputs": [
    {
     "name": "stderr",
     "output_type": "stream",
     "text": [
      "Using TensorFlow backend.\n"
     ]
    }
   ],
   "source": [
    "import keras"
   ]
  },
  {
   "cell_type": "code",
   "execution_count": 28,
   "metadata": {},
   "outputs": [],
   "source": [
    "from keras.models import Sequential\n",
    "from keras.layers import Conv2D, MaxPooling2D, Dense, Flatten, Dropout\n",
    "from keras.optimizers import Adam"
   ]
  },
  {
   "cell_type": "code",
   "execution_count": 30,
   "metadata": {},
   "outputs": [
    {
     "name": "stdout",
     "output_type": "stream",
     "text": [
      "WARNING:tensorflow:From C:\\Users\\Usama\\.conda\\envs\\fyp\\lib\\site-packages\\keras\\backend\\tensorflow_backend.py:3445: calling dropout (from tensorflow.python.ops.nn_ops) with keep_prob is deprecated and will be removed in a future version.\n",
      "Instructions for updating:\n",
      "Please use `rate` instead of `keep_prob`. Rate should be set to `rate = 1 - keep_prob`.\n"
     ]
    },
    {
     "name": "stderr",
     "output_type": "stream",
     "text": [
      "C:\\Users\\Usama\\.conda\\envs\\fyp\\lib\\site-packages\\ipykernel_launcher.py:2: UserWarning: Update your `Conv2D` call to the Keras 2 API: `Conv2D(64, (3, 3), input_shape=(28, 28, 1..., activation=\"relu\")`\n",
      "  \n",
      "C:\\Users\\Usama\\.conda\\envs\\fyp\\lib\\site-packages\\ipykernel_launcher.py:6: UserWarning: Update your `Dense` call to the Keras 2 API: `Dense(activation=\"relu\", units=32)`\n",
      "  \n",
      "C:\\Users\\Usama\\.conda\\envs\\fyp\\lib\\site-packages\\ipykernel_launcher.py:7: UserWarning: Update your `Dense` call to the Keras 2 API: `Dense(activation=\"sigmoid\", units=10)`\n",
      "  import sys\n"
     ]
    }
   ],
   "source": [
    "model = Sequential()\n",
    "model.add(Conv2D(64, 3, 3, input_shape = (28, 28, 1), activation = 'relu'))\n",
    "model.add(MaxPooling2D(pool_size = (2,2)))\n",
    "model.add(Dropout(0.5))\n",
    "model.add(Flatten())\n",
    "model.add(Dense(output_dim = 32, activation = 'relu'))\n",
    "model.add(Dense(output_dim = 10, activation = 'sigmoid'))\n",
    "model.compile(loss='sparse_categorical_crossentropy', optimizer=Adam(lr=0.01), metrics=['accuracy'])"
   ]
  },
  {
   "cell_type": "code",
   "execution_count": 31,
   "metadata": {},
   "outputs": [
    {
     "name": "stdout",
     "output_type": "stream",
     "text": [
      "Train on 48000 samples, validate on 12000 samples\n",
      "Epoch 1/50\n",
      "48000/48000 [==============================] - 109s 2ms/step - loss: 0.6074 - acc: 0.7743 - val_loss: 0.3519 - val_acc: 0.8763\n",
      "Epoch 2/50\n",
      "48000/48000 [==============================] - 95s 2ms/step - loss: 0.3482 - acc: 0.8735 - val_loss: 0.3220 - val_acc: 0.8859\n",
      "Epoch 3/50\n",
      "48000/48000 [==============================] - 94s 2ms/step - loss: 0.3118 - acc: 0.8878 - val_loss: 0.2890 - val_acc: 0.8959\n",
      "Epoch 4/50\n",
      "48000/48000 [==============================] - 108s 2ms/step - loss: 0.2976 - acc: 0.8905 - val_loss: 0.2874 - val_acc: 0.8927\n",
      "Epoch 5/50\n",
      "48000/48000 [==============================] - 112s 2ms/step - loss: 0.2810 - acc: 0.8965 - val_loss: 0.2825 - val_acc: 0.8942\n",
      "Epoch 6/50\n",
      "48000/48000 [==============================] - 113s 2ms/step - loss: 0.2640 - acc: 0.9023 - val_loss: 0.2529 - val_acc: 0.9077\n",
      "Epoch 7/50\n",
      "48000/48000 [==============================] - 111s 2ms/step - loss: 0.2535 - acc: 0.9056 - val_loss: 0.2632 - val_acc: 0.9060\n",
      "Epoch 8/50\n",
      "48000/48000 [==============================] - 111s 2ms/step - loss: 0.2481 - acc: 0.9080 - val_loss: 0.2573 - val_acc: 0.9072\n",
      "Epoch 9/50\n",
      "48000/48000 [==============================] - 108s 2ms/step - loss: 0.2370 - acc: 0.9110 - val_loss: 0.2557 - val_acc: 0.9078\n",
      "Epoch 10/50\n",
      "48000/48000 [==============================] - 104s 2ms/step - loss: 0.2302 - acc: 0.9131 - val_loss: 0.2706 - val_acc: 0.9040\n",
      "Epoch 11/50\n",
      "48000/48000 [==============================] - 109s 2ms/step - loss: 0.2193 - acc: 0.9181 - val_loss: 0.2595 - val_acc: 0.9078\n",
      "Epoch 12/50\n",
      "48000/48000 [==============================] - 112s 2ms/step - loss: 0.2120 - acc: 0.9203 - val_loss: 0.2571 - val_acc: 0.9105\n",
      "Epoch 13/50\n",
      "48000/48000 [==============================] - 104s 2ms/step - loss: 0.2031 - acc: 0.9218 - val_loss: 0.2530 - val_acc: 0.9111\n",
      "Epoch 14/50\n",
      "48000/48000 [==============================] - 115s 2ms/step - loss: 0.2030 - acc: 0.9234 - val_loss: 0.2582 - val_acc: 0.9064\n",
      "Epoch 15/50\n",
      "48000/48000 [==============================] - 109s 2ms/step - loss: 0.2010 - acc: 0.9232 - val_loss: 0.2477 - val_acc: 0.9138\n",
      "Epoch 16/50\n",
      "48000/48000 [==============================] - 107s 2ms/step - loss: 0.1910 - acc: 0.9276 - val_loss: 0.2574 - val_acc: 0.9101\n",
      "Epoch 17/50\n",
      "48000/48000 [==============================] - 113s 2ms/step - loss: 0.1911 - acc: 0.9278 - val_loss: 0.2543 - val_acc: 0.9123\n",
      "Epoch 18/50\n",
      "48000/48000 [==============================] - 119s 2ms/step - loss: 0.1877 - acc: 0.9290 - val_loss: 0.2683 - val_acc: 0.9052\n",
      "Epoch 19/50\n",
      "48000/48000 [==============================] - 105s 2ms/step - loss: 0.1801 - acc: 0.9316 - val_loss: 0.2681 - val_acc: 0.9092\n",
      "Epoch 20/50\n",
      "48000/48000 [==============================] - 118s 2ms/step - loss: 0.1789 - acc: 0.9309 - val_loss: 0.2592 - val_acc: 0.9135\n",
      "Epoch 21/50\n",
      "48000/48000 [==============================] - 112s 2ms/step - loss: 0.1748 - acc: 0.9334 - val_loss: 0.2694 - val_acc: 0.9141\n",
      "Epoch 22/50\n",
      "48000/48000 [==============================] - 124s 3ms/step - loss: 0.1764 - acc: 0.9331 - val_loss: 0.2725 - val_acc: 0.9081\n",
      "Epoch 23/50\n",
      "48000/48000 [==============================] - 113s 2ms/step - loss: 0.1745 - acc: 0.9331 - val_loss: 0.2628 - val_acc: 0.9148\n",
      "Epoch 24/50\n",
      "48000/48000 [==============================] - 116s 2ms/step - loss: 0.1718 - acc: 0.9336 - val_loss: 0.2711 - val_acc: 0.9106\n",
      "Epoch 25/50\n",
      "48000/48000 [==============================] - 115s 2ms/step - loss: 0.1646 - acc: 0.9371 - val_loss: 0.2655 - val_acc: 0.9130\n",
      "Epoch 26/50\n",
      "48000/48000 [==============================] - 120s 2ms/step - loss: 0.1649 - acc: 0.9364 - val_loss: 0.2857 - val_acc: 0.9088\n",
      "Epoch 27/50\n",
      "48000/48000 [==============================] - 94s 2ms/step - loss: 0.1653 - acc: 0.9362 - val_loss: 0.2907 - val_acc: 0.9086\n",
      "Epoch 28/50\n",
      "48000/48000 [==============================] - 94s 2ms/step - loss: 0.1587 - acc: 0.9386 - val_loss: 0.2831 - val_acc: 0.9103\n",
      "Epoch 29/50\n",
      "48000/48000 [==============================] - 93s 2ms/step - loss: 0.1611 - acc: 0.9376 - val_loss: 0.2751 - val_acc: 0.9092\n",
      "Epoch 30/50\n",
      "48000/48000 [==============================] - 113s 2ms/step - loss: 0.1540 - acc: 0.9416 - val_loss: 0.2788 - val_acc: 0.9119\n",
      "Epoch 31/50\n",
      "48000/48000 [==============================] - 113s 2ms/step - loss: 0.1522 - acc: 0.9409 - val_loss: 0.2817 - val_acc: 0.9131\n",
      "Epoch 32/50\n",
      "48000/48000 [==============================] - 112s 2ms/step - loss: 0.1503 - acc: 0.9423 - val_loss: 0.2845 - val_acc: 0.9118\n",
      "Epoch 33/50\n",
      "48000/48000 [==============================] - 112s 2ms/step - loss: 0.1490 - acc: 0.9439 - val_loss: 0.2883 - val_acc: 0.9121\n",
      "Epoch 34/50\n",
      "48000/48000 [==============================] - 98s 2ms/step - loss: 0.1505 - acc: 0.9420 - val_loss: 0.2858 - val_acc: 0.9155\n",
      "Epoch 35/50\n",
      "48000/48000 [==============================] - 94s 2ms/step - loss: 0.1451 - acc: 0.9436 - val_loss: 0.2880 - val_acc: 0.9114\n",
      "Epoch 36/50\n",
      "48000/48000 [==============================] - 101s 2ms/step - loss: 0.1481 - acc: 0.9438 - val_loss: 0.3005 - val_acc: 0.9107\n",
      "Epoch 37/50\n",
      "48000/48000 [==============================] - 114s 2ms/step - loss: 0.1432 - acc: 0.9446 - val_loss: 0.3050 - val_acc: 0.9144\n",
      "Epoch 38/50\n",
      "48000/48000 [==============================] - 126s 3ms/step - loss: 0.1501 - acc: 0.9433 - val_loss: 0.2929 - val_acc: 0.9145\n",
      "Epoch 39/50\n",
      "48000/48000 [==============================] - 122s 3ms/step - loss: 0.1389 - acc: 0.9470 - val_loss: 0.2972 - val_acc: 0.9123\n",
      "Epoch 40/50\n",
      "48000/48000 [==============================] - 121s 3ms/step - loss: 0.1411 - acc: 0.9466 - val_loss: 0.2938 - val_acc: 0.9139\n",
      "Epoch 41/50\n",
      "48000/48000 [==============================] - 125s 3ms/step - loss: 0.1425 - acc: 0.9464 - val_loss: 0.3011 - val_acc: 0.9104\n",
      "Epoch 42/50\n",
      "48000/48000 [==============================] - 116s 2ms/step - loss: 0.1385 - acc: 0.9471 - val_loss: 0.2926 - val_acc: 0.9134\n",
      "Epoch 43/50\n",
      "48000/48000 [==============================] - 120s 2ms/step - loss: 0.1401 - acc: 0.9473 - val_loss: 0.3044 - val_acc: 0.9109\n",
      "Epoch 44/50\n",
      "48000/48000 [==============================] - 121s 3ms/step - loss: 0.1374 - acc: 0.9482 - val_loss: 0.3079 - val_acc: 0.9107\n",
      "Epoch 45/50\n",
      "48000/48000 [==============================] - 129s 3ms/step - loss: 0.1352 - acc: 0.9491 - val_loss: 0.3019 - val_acc: 0.9127\n",
      "Epoch 46/50\n",
      "48000/48000 [==============================] - 157s 3ms/step - loss: 0.1281 - acc: 0.9515 - val_loss: 0.3170 - val_acc: 0.9100\n",
      "Epoch 47/50\n",
      "48000/48000 [==============================] - 133s 3ms/step - loss: 0.1302 - acc: 0.9508 - val_loss: 0.3067 - val_acc: 0.9130\n",
      "Epoch 48/50\n",
      "48000/48000 [==============================] - 131s 3ms/step - loss: 0.1315 - acc: 0.9500 - val_loss: 0.3178 - val_acc: 0.9132\n",
      "Epoch 49/50\n",
      "48000/48000 [==============================] - 152s 3ms/step - loss: 0.1302 - acc: 0.9504 - val_loss: 0.3271 - val_acc: 0.9088\n",
      "Epoch 50/50\n",
      "48000/48000 [==============================] - 152s 3ms/step - loss: 0.1288 - acc: 0.9515 - val_loss: 0.3201 - val_acc: 0.9101\n"
     ]
    },
    {
     "data": {
      "text/plain": [
       "<keras.callbacks.History at 0x1fe3eff1a20>"
      ]
     },
     "execution_count": 31,
     "metadata": {},
     "output_type": "execute_result"
    }
   ],
   "source": [
    "epoch = 50\n",
    "model.fit(X_train, Y_train, batch_size=512, epochs= 50, verbose=1, validation_data=(X_validate, Y_validate))"
   ]
  },
  {
   "cell_type": "code",
   "execution_count": 32,
   "metadata": {},
   "outputs": [
    {
     "name": "stdout",
     "output_type": "stream",
     "text": [
      "10000/10000 [==============================] - 13s 1ms/step\n",
      "Test Accuracy: 0.915\n"
     ]
    }
   ],
   "source": [
    "evaluation = model.evaluate(X_test, Y_test)\n",
    "print('Test Accuracy: {:.3f}'.format(evaluation[1]))"
   ]
  },
  {
   "cell_type": "code",
   "execution_count": 33,
   "metadata": {},
   "outputs": [],
   "source": [
    "predicted = model.predict_classes(X_test)"
   ]
  },
  {
   "cell_type": "code",
   "execution_count": 34,
   "metadata": {},
   "outputs": [],
   "source": [
    "import matplotlib.pyplot as plt\n",
    "import seaborn as sns"
   ]
  },
  {
   "cell_type": "code",
   "execution_count": 35,
   "metadata": {},
   "outputs": [
    {
     "data": {
      "text/plain": [
       "<matplotlib.axes._subplots.AxesSubplot at 0x1fe49a4c9e8>"
      ]
     },
     "execution_count": 35,
     "metadata": {},
     "output_type": "execute_result"
    },
    {
     "data": {
      "image/png": "[encoded data removed]",
      "text/plain": [
       "<Figure size 1008x720 with 2 Axes>"
      ]
     },
     "metadata": {
      "needs_background": "light"
     },
     "output_type": "display_data"
    }
   ],
   "source": [
    "from sklearn.metrics import confusion_matrix\n",
    "conf = confusion_matrix(Y_test, predicted)\n",
    "plt.figure(figsize=(14,10))\n",
    "sns.heatmap(conf, annot=True)\n"
   ]
  },
  {
   "cell_type": "code",
   "execution_count": null,
   "metadata": {},
   "outputs": [],
   "source": []
  }
 ],
 "metadata": {
  "kernelspec": {
   "display_name": "Python 3",
   "language": "python",
   "name": "python3"
  },
  "language_info": {
   "codemirror_mode": {
    "name": "ipython",
    "version": 3
   },
   "file_extension": ".py",
   "mimetype": "text/x-python",
   "name": "python",
   "nbconvert_exporter": "python",
   "pygments_lexer": "ipython3",
   "version": "3.6.9"
  }
 },
 "nbformat": 4,
 "nbformat_minor": 2
}
